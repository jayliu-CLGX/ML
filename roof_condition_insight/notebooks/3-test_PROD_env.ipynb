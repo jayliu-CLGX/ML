{
 "cells": [
  {
   "cell_type": "markdown",
   "id": "8c31d39b-ef45-4bbe-a2b4-a1ddf312dfe2",
   "metadata": {},
   "source": [
    "# CONFIG"
   ]
  },
  {
   "cell_type": "code",
   "execution_count": 1,
   "id": "b6690b8f-78bf-4409-aed0-2b3c3817a9b6",
   "metadata": {},
   "outputs": [],
   "source": [
    "%load_ext autoreload\n",
    "%autoreload 2"
   ]
  },
  {
   "cell_type": "code",
   "execution_count": 2,
   "id": "9b80b6f8-be46-4789-808e-d381e54babe4",
   "metadata": {},
   "outputs": [],
   "source": [
    "import os\n",
    "import time\n",
    "import sys\n",
    "sys.path.append('../src')  # Adjust based on your actual structure\n",
    "from config import DATA_DIR\n",
    "import pandas as pd\n",
    "\n",
    "from roof_condition_insights import RoofConditionInsights\n",
    "import dataframe_report as dr\n",
    "import performance_plot as pp"
   ]
  },
  {
   "cell_type": "markdown",
   "id": "b63fa508-3718-4878-b5f0-87643560ff31",
   "metadata": {},
   "source": [
    "# READ DATA"
   ]
  },
  {
   "cell_type": "markdown",
   "id": "0d693c5a-21d6-47b9-bc9a-c8d531109be6",
   "metadata": {},
   "source": [
    "## Claim vs No Claim - Zip Code Stratified"
   ]
  },
  {
   "cell_type": "code",
   "execution_count": 3,
   "id": "86e48fc5-ccdc-450f-b371-4c57578e3133",
   "metadata": {},
   "outputs": [],
   "source": [
    "claim_23_uw_22Q4_filepath = os.path.join(DATA_DIR, 'datasets/output/rci_claim_23_uw_22Q4.csv')\n",
    "balanced_merged_df = pd.read_csv(claim_23_uw_22Q4_filepath,\n",
    "                                dtype={'UW_ZIP': str})"
   ]
  },
  {
   "cell_type": "code",
   "execution_count": 4,
   "id": "5fd01d6d-cbfc-4d92-b810-663cb2d338bf",
   "metadata": {},
   "outputs": [],
   "source": [
    "addresses = balanced_merged_df['address'].to_list()"
   ]
  },
  {
   "cell_type": "code",
   "execution_count": 5,
   "id": "118812dc-fadc-4a6b-9bac-3e65f396199d",
   "metadata": {},
   "outputs": [],
   "source": [
    "test_addresses = addresses[:20]"
   ]
  },
  {
   "cell_type": "code",
   "execution_count": 6,
   "id": "8962668c-0b6f-4b00-a181-9c37a31ca5b2",
   "metadata": {},
   "outputs": [],
   "source": [
    "# test_addresses_1000 = addresses[:1000]"
   ]
  },
  {
   "cell_type": "code",
   "execution_count": 7,
   "id": "ebe07b7d-b2d1-4bf9-b235-db2a220e5e7c",
   "metadata": {},
   "outputs": [
    {
     "data": {
      "text/plain": [
       "['5542 DOWNS WAY, LITHONIA, GA 30058',\n",
       " '2633 COUNCIL ST, LITHONIA, GA 30058',\n",
       " '5727 MISTY RIDGE CT, LITHONIA, GA 30058',\n",
       " '1989 LOWN FARM TRL, LITHONIA, GA 30058',\n",
       " '3601 34TH AVE S, MINNEAPOLIS, MN 55406',\n",
       " '3337 34TH AVE S, MINNEAPOLIS, MN 55406',\n",
       " '4020 45TH AVE S, MINNEAPOLIS, MN 55406',\n",
       " '2417 32ND AVE S, MINNEAPOLIS, MN 55406',\n",
       " '4215 NOKOMIS AVE, MINNEAPOLIS, MN 55406',\n",
       " '3944 SNELLING AVE, MINNEAPOLIS, MN 55406',\n",
       " '808 N GARFIELD ST, ARLINGTON, VA 22201',\n",
       " '2318 N KENMORE ST, ARLINGTON, VA 22201',\n",
       " '227 PINE BRANCH CIR, COLUMBUS, GA 31909',\n",
       " '6 N WHISPER CT, COLUMBUS, GA 31909',\n",
       " '4161 BERKELEY LNDG NW, KENNESAW, GA 30144',\n",
       " '87 ATLANTA AVE SE, ATLANTA, GA 30315',\n",
       " '1540 ARTHUR AVE, COSHOCTON, OH 43812',\n",
       " '699 HIGH ST, COSHOCTON, OH 43812',\n",
       " '100 JACQUELYN DR, SAVANNAH, GA 31406',\n",
       " '101 ROYAL OAK CT, SAVANNAH, GA 31406']"
      ]
     },
     "execution_count": 7,
     "metadata": {},
     "output_type": "execute_result"
    }
   ],
   "source": [
    "test_addresses"
   ]
  },
  {
   "cell_type": "markdown",
   "id": "13cc88f9-c2e2-4da5-aa95-89173f59504a",
   "metadata": {},
   "source": [
    "## Sequential"
   ]
  },
  {
   "cell_type": "code",
   "execution_count": 8,
   "id": "8d7d68d9-52e2-49dd-b179-0c748d71d5d3",
   "metadata": {},
   "outputs": [
    {
     "name": "stdout",
     "output_type": "stream",
     "text": [
      "Access token is retrieved with status code 200.\n"
     ]
    }
   ],
   "source": [
    "# rci = RoofConditionInsights(\n",
    "#     env=\"PRD\",\n",
    "#     api_key=\"79802C81EF4C49C5A24F202BF3BB5219\",\n",
    "#     api_companyid=\"3168675050\",\n",
    "#     username=\"all@vod.com\",\n",
    "#     password=\"myriadvod123456\",\n",
    "#     verbose=True\n",
    "# )\n",
    "rci = RoofConditionInsights(\n",
    "    env=\"UAT\",\n",
    "    api_key=\"FCC2638D0B8045FD81FA4DAD15E7D059\",\n",
    "    api_companyid=\"340862391\",\n",
    "    username=\"all@grange.com\",\n",
    "    password=\"Myr1@d\",\n",
    "    verbose=True\n",
    ")\n",
    "# -- Single Address\n",
    "address = \"3601 34TH AVE S, MINNEAPOLIS, MN 55406\"\n",
    "address = test_addresses[0]\n",
    "insights = rci.get_roof_condition_insights(address, generate_pdf=False)\n"
   ]
  },
  {
   "cell_type": "code",
   "execution_count": 10,
   "id": "6e7c1a16-43a9-4113-8fca-a74586772493",
   "metadata": {
    "scrolled": true,
    "tags": []
   },
   "outputs": [
    {
     "name": "stdout",
     "output_type": "stream",
     "text": [
      "Checkpoint saved to /home/jupyter/majid/roof-condition-insights/data/datasets/output/rci_data_checkpoint_5_20240401_1452.csv\n",
      "processing: 30.520278453826904\n"
     ]
    }
   ],
   "source": [
    "st = time.time()\n",
    "df_test1 = rci.process_multiple_addresses(test_addresses[:5], \n",
    "                               generate_pdf=False, \n",
    "                               save_json=False, \n",
    "                               start_index=0, \n",
    "                               process_method='sequential', \n",
    "                               max_workers=5)\n",
    "et = time.time()\n",
    "print('processing:', et-st)"
   ]
  },
  {
   "cell_type": "code",
   "execution_count": 13,
   "id": "1f76fcd0-26bc-456b-8066-1a6d5600e64c",
   "metadata": {},
   "outputs": [
    {
     "data": {
      "text/html": [
       "<div>\n",
       "<style scoped>\n",
       "    .dataframe tbody tr th:only-of-type {\n",
       "        vertical-align: middle;\n",
       "    }\n",
       "\n",
       "    .dataframe tbody tr th {\n",
       "        vertical-align: top;\n",
       "    }\n",
       "\n",
       "    .dataframe thead th {\n",
       "        text-align: right;\n",
       "    }\n",
       "</style>\n",
       "<table border=\"1\" class=\"dataframe\">\n",
       "  <thead>\n",
       "    <tr style=\"text-align: right;\">\n",
       "      <th></th>\n",
       "      <th>historicalRoofPermits</th>\n",
       "      <th>trackingId</th>\n",
       "      <th>pdfContent</th>\n",
       "      <th>propertyCharacteristics_totalLivingArea</th>\n",
       "      <th>propertyCharacteristics_totalLivingAreaSource</th>\n",
       "      <th>propertyCharacteristics_yearBuilt</th>\n",
       "      <th>propertyCharacteristics_yearBuiltSource</th>\n",
       "      <th>propertyCharacteristics_propertyConstructionType</th>\n",
       "      <th>propertyCharacteristics_propertyConstructionTypeSource</th>\n",
       "      <th>propertyCharacteristics_roofReconstructionCostEstimateWODebrisRemoval</th>\n",
       "      <th>...</th>\n",
       "      <th>roofConditionInsightsScore_riskScore</th>\n",
       "      <th>roofConditionInsightsScore_riskDescription</th>\n",
       "      <th>address</th>\n",
       "      <th>rci_score_v1.0</th>\n",
       "      <th>rci_score_v1.1</th>\n",
       "      <th>rci_key_triggers</th>\n",
       "      <th>rci_raw_score_v1.0</th>\n",
       "      <th>rci_raw_score_v1.1</th>\n",
       "      <th>run_completed</th>\n",
       "      <th>run_status_code</th>\n",
       "    </tr>\n",
       "  </thead>\n",
       "  <tbody>\n",
       "    <tr>\n",
       "      <th>0</th>\n",
       "      <td>None</td>\n",
       "      <td>None</td>\n",
       "      <td>None</td>\n",
       "      <td>1411</td>\n",
       "      <td>InterChange</td>\n",
       "      <td>1989</td>\n",
       "      <td>InterChange</td>\n",
       "      <td>Siding, Wood (100%)</td>\n",
       "      <td>Default</td>\n",
       "      <td>9473</td>\n",
       "      <td>...</td>\n",
       "      <td>1.0</td>\n",
       "      <td>LOW</td>\n",
       "      <td>5542 DOWNS WAY, LITHONIA, GA 30058</td>\n",
       "      <td>1.0</td>\n",
       "      <td>4.5</td>\n",
       "      <td>[Wind speed &gt;60]</td>\n",
       "      <td>0.0</td>\n",
       "      <td>4.5</td>\n",
       "      <td>True</td>\n",
       "      <td>200</td>\n",
       "    </tr>\n",
       "    <tr>\n",
       "      <th>1</th>\n",
       "      <td>None</td>\n",
       "      <td>None</td>\n",
       "      <td>None</td>\n",
       "      <td>1060</td>\n",
       "      <td>InterChange</td>\n",
       "      <td>1900</td>\n",
       "      <td>InterChange</td>\n",
       "      <td>Siding, Wood (100%)</td>\n",
       "      <td>Default</td>\n",
       "      <td>10367</td>\n",
       "      <td>...</td>\n",
       "      <td>1.0</td>\n",
       "      <td>LOW</td>\n",
       "      <td>2633 COUNCIL ST, LITHONIA, GA 30058</td>\n",
       "      <td>1.0</td>\n",
       "      <td>5.5</td>\n",
       "      <td>[Tree Overhang, Wind speed &gt;60]</td>\n",
       "      <td>1.0</td>\n",
       "      <td>5.5</td>\n",
       "      <td>True</td>\n",
       "      <td>200</td>\n",
       "    </tr>\n",
       "    <tr>\n",
       "      <th>2</th>\n",
       "      <td>None</td>\n",
       "      <td>None</td>\n",
       "      <td>None</td>\n",
       "      <td>1804</td>\n",
       "      <td>InterChange</td>\n",
       "      <td>1986</td>\n",
       "      <td>InterChange</td>\n",
       "      <td>Siding, Wood (100%)</td>\n",
       "      <td>Default</td>\n",
       "      <td>8322</td>\n",
       "      <td>...</td>\n",
       "      <td>1.0</td>\n",
       "      <td>LOW</td>\n",
       "      <td>5727 MISTY RIDGE CT, LITHONIA, GA 30058</td>\n",
       "      <td>1.0</td>\n",
       "      <td>5.5</td>\n",
       "      <td>[Tree Overhang, Wind speed &gt;60]</td>\n",
       "      <td>1.0</td>\n",
       "      <td>5.5</td>\n",
       "      <td>True</td>\n",
       "      <td>200</td>\n",
       "    </tr>\n",
       "    <tr>\n",
       "      <th>3</th>\n",
       "      <td>None</td>\n",
       "      <td>None</td>\n",
       "      <td>None</td>\n",
       "      <td>2157</td>\n",
       "      <td>InterChange</td>\n",
       "      <td>1988</td>\n",
       "      <td>InterChange</td>\n",
       "      <td>Siding, Wood (100%)</td>\n",
       "      <td>Default</td>\n",
       "      <td>14369</td>\n",
       "      <td>...</td>\n",
       "      <td>1.5</td>\n",
       "      <td>LOW</td>\n",
       "      <td>1989 LOWN FARM TRL, LITHONIA, GA 30058</td>\n",
       "      <td>1.5</td>\n",
       "      <td>6.0</td>\n",
       "      <td>[Tile/Shingle Staining, Wind speed &gt;60]</td>\n",
       "      <td>1.5</td>\n",
       "      <td>6.0</td>\n",
       "      <td>True</td>\n",
       "      <td>200</td>\n",
       "    </tr>\n",
       "    <tr>\n",
       "      <th>4</th>\n",
       "      <td>None</td>\n",
       "      <td>None</td>\n",
       "      <td>None</td>\n",
       "      <td>948</td>\n",
       "      <td>InterChange</td>\n",
       "      <td>1915</td>\n",
       "      <td>InterChange</td>\n",
       "      <td>Siding, Steel (100%)</td>\n",
       "      <td>InterChange</td>\n",
       "      <td>13466</td>\n",
       "      <td>...</td>\n",
       "      <td>1.0</td>\n",
       "      <td>LOW</td>\n",
       "      <td>3601 34TH AVE S, MINNEAPOLIS, MN 55406</td>\n",
       "      <td>1.0</td>\n",
       "      <td>1.0</td>\n",
       "      <td>[]</td>\n",
       "      <td>0.0</td>\n",
       "      <td>0.0</td>\n",
       "      <td>True</td>\n",
       "      <td>200</td>\n",
       "    </tr>\n",
       "  </tbody>\n",
       "</table>\n",
       "<p>5 rows × 45 columns</p>\n",
       "</div>"
      ],
      "text/plain": [
       "  historicalRoofPermits trackingId pdfContent  \\\n",
       "0                  None       None       None   \n",
       "1                  None       None       None   \n",
       "2                  None       None       None   \n",
       "3                  None       None       None   \n",
       "4                  None       None       None   \n",
       "\n",
       "   propertyCharacteristics_totalLivingArea  \\\n",
       "0                                     1411   \n",
       "1                                     1060   \n",
       "2                                     1804   \n",
       "3                                     2157   \n",
       "4                                      948   \n",
       "\n",
       "  propertyCharacteristics_totalLivingAreaSource  \\\n",
       "0                                   InterChange   \n",
       "1                                   InterChange   \n",
       "2                                   InterChange   \n",
       "3                                   InterChange   \n",
       "4                                   InterChange   \n",
       "\n",
       "   propertyCharacteristics_yearBuilt propertyCharacteristics_yearBuiltSource  \\\n",
       "0                               1989                             InterChange   \n",
       "1                               1900                             InterChange   \n",
       "2                               1986                             InterChange   \n",
       "3                               1988                             InterChange   \n",
       "4                               1915                             InterChange   \n",
       "\n",
       "  propertyCharacteristics_propertyConstructionType  \\\n",
       "0                              Siding, Wood (100%)   \n",
       "1                              Siding, Wood (100%)   \n",
       "2                              Siding, Wood (100%)   \n",
       "3                              Siding, Wood (100%)   \n",
       "4                             Siding, Steel (100%)   \n",
       "\n",
       "  propertyCharacteristics_propertyConstructionTypeSource  \\\n",
       "0                                            Default       \n",
       "1                                            Default       \n",
       "2                                            Default       \n",
       "3                                            Default       \n",
       "4                                        InterChange       \n",
       "\n",
       "   propertyCharacteristics_roofReconstructionCostEstimateWODebrisRemoval  ...  \\\n",
       "0                                               9473                      ...   \n",
       "1                                              10367                      ...   \n",
       "2                                               8322                      ...   \n",
       "3                                              14369                      ...   \n",
       "4                                              13466                      ...   \n",
       "\n",
       "   roofConditionInsightsScore_riskScore  \\\n",
       "0                                   1.0   \n",
       "1                                   1.0   \n",
       "2                                   1.0   \n",
       "3                                   1.5   \n",
       "4                                   1.0   \n",
       "\n",
       "   roofConditionInsightsScore_riskDescription  \\\n",
       "0                                         LOW   \n",
       "1                                         LOW   \n",
       "2                                         LOW   \n",
       "3                                         LOW   \n",
       "4                                         LOW   \n",
       "\n",
       "                                   address  rci_score_v1.0 rci_score_v1.1  \\\n",
       "0       5542 DOWNS WAY, LITHONIA, GA 30058             1.0            4.5   \n",
       "1      2633 COUNCIL ST, LITHONIA, GA 30058             1.0            5.5   \n",
       "2  5727 MISTY RIDGE CT, LITHONIA, GA 30058             1.0            5.5   \n",
       "3   1989 LOWN FARM TRL, LITHONIA, GA 30058             1.5            6.0   \n",
       "4   3601 34TH AVE S, MINNEAPOLIS, MN 55406             1.0            1.0   \n",
       "\n",
       "                          rci_key_triggers  rci_raw_score_v1.0  \\\n",
       "0                         [Wind speed >60]                 0.0   \n",
       "1          [Tree Overhang, Wind speed >60]                 1.0   \n",
       "2          [Tree Overhang, Wind speed >60]                 1.0   \n",
       "3  [Tile/Shingle Staining, Wind speed >60]                 1.5   \n",
       "4                                       []                 0.0   \n",
       "\n",
       "  rci_raw_score_v1.1 run_completed run_status_code  \n",
       "0                4.5          True             200  \n",
       "1                5.5          True             200  \n",
       "2                5.5          True             200  \n",
       "3                6.0          True             200  \n",
       "4                0.0          True             200  \n",
       "\n",
       "[5 rows x 45 columns]"
      ]
     },
     "execution_count": 13,
     "metadata": {},
     "output_type": "execute_result"
    }
   ],
   "source": [
    "df_test1"
   ]
  },
  {
   "cell_type": "code",
   "execution_count": 14,
   "id": "331e0267-16d7-401f-b714-82fd40e334eb",
   "metadata": {},
   "outputs": [
    {
     "name": "stdout",
     "output_type": "stream",
     "text": [
      "Checkpoint saved to /home/jupyter/majid/roof-condition-insights/data/datasets/output/rci_data_checkpoint_5_20240401_1452.csv\n",
      "processing: 6.322721242904663\n"
     ]
    }
   ],
   "source": [
    "st = time.time()\n",
    "df_test2 = rci.process_multiple_addresses(test_addresses[:5], \n",
    "                               generate_pdf=False, \n",
    "                               save_json=False, \n",
    "                               start_index=0, \n",
    "                               process_method='parallel', \n",
    "                               max_workers=5)\n",
    "et = time.time()\n",
    "print('processing:', et-st)"
   ]
  },
  {
   "cell_type": "code",
   "execution_count": 15,
   "id": "cd176656-50ef-44c9-a690-dffd27956b8c",
   "metadata": {},
   "outputs": [],
   "source": [
    "df_test2 = df_test2.sort_values('address').reset_index(drop=True)"
   ]
  },
  {
   "cell_type": "code",
   "execution_count": 16,
   "id": "0bf5f828-1618-44df-b17f-567590270101",
   "metadata": {},
   "outputs": [],
   "source": [
    "df_test1 = df_test1.sort_values('address').reset_index(drop=True)"
   ]
  },
  {
   "cell_type": "code",
   "execution_count": 17,
   "id": "5e1da949-6209-4c41-b6dc-945c945ec53b",
   "metadata": {},
   "outputs": [
    {
     "data": {
      "text/plain": [
       "True"
      ]
     },
     "execution_count": 17,
     "metadata": {},
     "output_type": "execute_result"
    }
   ],
   "source": [
    "df_test2.equals(df_test1)"
   ]
  },
  {
   "cell_type": "markdown",
   "id": "17e984d7-5fcc-44ce-9d3a-88fb0aaab670",
   "metadata": {},
   "source": [
    "## Parallel"
   ]
  },
  {
   "cell_type": "code",
   "execution_count": null,
   "id": "6a33c851-0b39-46d5-90a2-7b08ff1f60cc",
   "metadata": {},
   "outputs": [],
   "source": [
    "st = time.time()\n",
    "df_test2 = rci.process_multiple_addresses(test_addresses_1000, \n",
    "                               generate_pdf=False, \n",
    "                               save_json=False, \n",
    "                               start_index=0, \n",
    "                               process_method='parallel', \n",
    "                               max_workers=5)\n",
    "et = time.time()\n",
    "print('processing:', et-st)"
   ]
  },
  {
   "cell_type": "code",
   "execution_count": null,
   "id": "f7170ea0-ba58-4728-9d74-8ea49dfcc2cd",
   "metadata": {},
   "outputs": [
    {
     "data": {
      "text/plain": [
       "(1000, 47)"
      ]
     },
     "execution_count": 16,
     "metadata": {},
     "output_type": "execute_result"
    }
   ],
   "source": [
    "df_test2.shape"
   ]
  },
  {
   "cell_type": "markdown",
   "id": "d10ca324-1f48-4957-b5cf-71048cf05005",
   "metadata": {},
   "source": [
    "## comparison"
   ]
  },
  {
   "cell_type": "code",
   "execution_count": 21,
   "id": "a4e11c36-936f-43e8-991a-4b1176e9a234",
   "metadata": {},
   "outputs": [],
   "source": [
    "seq_data = os.path.join(DATA_DIR, 'datasets/output/rci_data_final_20240328_1858.csv')\n",
    "df_seq = pd.read_csv(seq_data)"
   ]
  },
  {
   "cell_type": "code",
   "execution_count": 34,
   "id": "33577710-e521-41dd-ad5a-0d723632c127",
   "metadata": {},
   "outputs": [],
   "source": [
    "df_seq = df_seq.sort_values('address').reset_index(drop=True)"
   ]
  },
  {
   "cell_type": "code",
   "execution_count": 35,
   "id": "4f67100a-435b-42b2-a6a7-c1646a58e10e",
   "metadata": {},
   "outputs": [
    {
     "data": {
      "text/html": [
       "<div>\n",
       "<style scoped>\n",
       "    .dataframe tbody tr th:only-of-type {\n",
       "        vertical-align: middle;\n",
       "    }\n",
       "\n",
       "    .dataframe tbody tr th {\n",
       "        vertical-align: top;\n",
       "    }\n",
       "\n",
       "    .dataframe thead th {\n",
       "        text-align: right;\n",
       "    }\n",
       "</style>\n",
       "<table border=\"1\" class=\"dataframe\">\n",
       "  <thead>\n",
       "    <tr style=\"text-align: right;\">\n",
       "      <th></th>\n",
       "      <th>Unnamed: 0</th>\n",
       "      <th>historicalRoofPermits</th>\n",
       "      <th>trackingId</th>\n",
       "      <th>pdfContent</th>\n",
       "      <th>propertyCharacteristics_totalLivingArea</th>\n",
       "      <th>propertyCharacteristics_totalLivingAreaSource</th>\n",
       "      <th>propertyCharacteristics_yearBuilt</th>\n",
       "      <th>propertyCharacteristics_yearBuiltSource</th>\n",
       "      <th>propertyCharacteristics_propertyConstructionType</th>\n",
       "      <th>propertyCharacteristics_propertyConstructionTypeSource</th>\n",
       "      <th>...</th>\n",
       "      <th>address</th>\n",
       "      <th>rci_score_v1.0</th>\n",
       "      <th>rci_score_v1.1</th>\n",
       "      <th>rci_key_triggers</th>\n",
       "      <th>rci_raw_score_v1.0</th>\n",
       "      <th>rci_raw_score_v1.1</th>\n",
       "      <th>run_completed</th>\n",
       "      <th>run_status_code</th>\n",
       "      <th>historicalRoofPermits_totalCount</th>\n",
       "      <th>historicalRoofPermits_permits</th>\n",
       "    </tr>\n",
       "  </thead>\n",
       "  <tbody>\n",
       "    <tr>\n",
       "      <th>0</th>\n",
       "      <td>18</td>\n",
       "      <td>NaN</td>\n",
       "      <td>NaN</td>\n",
       "      <td>NaN</td>\n",
       "      <td>1290.0</td>\n",
       "      <td>InterChange</td>\n",
       "      <td>1954.0</td>\n",
       "      <td>InterChange</td>\n",
       "      <td>Brick on Frame (100%)</td>\n",
       "      <td>InterChange</td>\n",
       "      <td>...</td>\n",
       "      <td>100 JACQUELYN DR, SAVANNAH, GA 31406</td>\n",
       "      <td>2.5</td>\n",
       "      <td>7.0</td>\n",
       "      <td>['Tile/Shingle Staining', 'Tree Overhang', 'Wi...</td>\n",
       "      <td>2.5</td>\n",
       "      <td>7.0</td>\n",
       "      <td>True</td>\n",
       "      <td>200</td>\n",
       "      <td>NaN</td>\n",
       "      <td>NaN</td>\n",
       "    </tr>\n",
       "    <tr>\n",
       "      <th>1</th>\n",
       "      <td>599</td>\n",
       "      <td>NaN</td>\n",
       "      <td>NaN</td>\n",
       "      <td>NaN</td>\n",
       "      <td>2016.0</td>\n",
       "      <td>InterChange</td>\n",
       "      <td>1980.0</td>\n",
       "      <td>InterChange</td>\n",
       "      <td>Siding, Vinyl (100%)</td>\n",
       "      <td>InterChange</td>\n",
       "      <td>...</td>\n",
       "      <td>100 NELSON TER, MOUNTAIN PINE, AR 71956</td>\n",
       "      <td>2.5</td>\n",
       "      <td>2.5</td>\n",
       "      <td>['Tile/Shingle Staining', 'Tree Overhang']</td>\n",
       "      <td>2.5</td>\n",
       "      <td>2.5</td>\n",
       "      <td>True</td>\n",
       "      <td>200</td>\n",
       "      <td>NaN</td>\n",
       "      <td>NaN</td>\n",
       "    </tr>\n",
       "    <tr>\n",
       "      <th>2</th>\n",
       "      <td>695</td>\n",
       "      <td>NaN</td>\n",
       "      <td>NaN</td>\n",
       "      <td>NaN</td>\n",
       "      <td>1691.0</td>\n",
       "      <td>InterChange</td>\n",
       "      <td>1983.0</td>\n",
       "      <td>InterChange</td>\n",
       "      <td>Brick on Frame (100%)</td>\n",
       "      <td>InterChange</td>\n",
       "      <td>...</td>\n",
       "      <td>1004 N ALLEN HEIGHTS DR, ALLEN, TX 75002</td>\n",
       "      <td>1.0</td>\n",
       "      <td>1.5</td>\n",
       "      <td>['Hail Insight Score &gt; 4']</td>\n",
       "      <td>0.0</td>\n",
       "      <td>1.5</td>\n",
       "      <td>True</td>\n",
       "      <td>200</td>\n",
       "      <td>1.0</td>\n",
       "      <td>[{'permitProjectType': 'Roof Repair', 'permitE...</td>\n",
       "    </tr>\n",
       "    <tr>\n",
       "      <th>3</th>\n",
       "      <td>687</td>\n",
       "      <td>NaN</td>\n",
       "      <td>NaN</td>\n",
       "      <td>NaN</td>\n",
       "      <td>3676.0</td>\n",
       "      <td>InterChange</td>\n",
       "      <td>2009.0</td>\n",
       "      <td>InterChange</td>\n",
       "      <td>Brick on Frame (100%)</td>\n",
       "      <td>InterChange</td>\n",
       "      <td>...</td>\n",
       "      <td>1005 CARSON DR, ALLEN, TX 75002</td>\n",
       "      <td>1.0</td>\n",
       "      <td>2.5</td>\n",
       "      <td>['Tree Overhang', 'Hail Insight Score &gt; 4']</td>\n",
       "      <td>1.0</td>\n",
       "      <td>2.5</td>\n",
       "      <td>True</td>\n",
       "      <td>200</td>\n",
       "      <td>NaN</td>\n",
       "      <td>NaN</td>\n",
       "    </tr>\n",
       "    <tr>\n",
       "      <th>4</th>\n",
       "      <td>725</td>\n",
       "      <td>NaN</td>\n",
       "      <td>NaN</td>\n",
       "      <td>NaN</td>\n",
       "      <td>2462.0</td>\n",
       "      <td>InterChange</td>\n",
       "      <td>1994.0</td>\n",
       "      <td>InterChange</td>\n",
       "      <td>Brick on Frame (100%)</td>\n",
       "      <td>InterChange</td>\n",
       "      <td>...</td>\n",
       "      <td>1007 AYLESBURY DR, ALLEN, TX 75002</td>\n",
       "      <td>1.0</td>\n",
       "      <td>2.5</td>\n",
       "      <td>['Tree Overhang', 'Hail Insight Score &gt; 4']</td>\n",
       "      <td>1.0</td>\n",
       "      <td>2.5</td>\n",
       "      <td>True</td>\n",
       "      <td>200</td>\n",
       "      <td>NaN</td>\n",
       "      <td>NaN</td>\n",
       "    </tr>\n",
       "  </tbody>\n",
       "</table>\n",
       "<p>5 rows × 48 columns</p>\n",
       "</div>"
      ],
      "text/plain": [
       "   Unnamed: 0  historicalRoofPermits  trackingId  pdfContent  \\\n",
       "0          18                    NaN         NaN         NaN   \n",
       "1         599                    NaN         NaN         NaN   \n",
       "2         695                    NaN         NaN         NaN   \n",
       "3         687                    NaN         NaN         NaN   \n",
       "4         725                    NaN         NaN         NaN   \n",
       "\n",
       "   propertyCharacteristics_totalLivingArea  \\\n",
       "0                                   1290.0   \n",
       "1                                   2016.0   \n",
       "2                                   1691.0   \n",
       "3                                   3676.0   \n",
       "4                                   2462.0   \n",
       "\n",
       "  propertyCharacteristics_totalLivingAreaSource  \\\n",
       "0                                   InterChange   \n",
       "1                                   InterChange   \n",
       "2                                   InterChange   \n",
       "3                                   InterChange   \n",
       "4                                   InterChange   \n",
       "\n",
       "   propertyCharacteristics_yearBuilt propertyCharacteristics_yearBuiltSource  \\\n",
       "0                             1954.0                             InterChange   \n",
       "1                             1980.0                             InterChange   \n",
       "2                             1983.0                             InterChange   \n",
       "3                             2009.0                             InterChange   \n",
       "4                             1994.0                             InterChange   \n",
       "\n",
       "  propertyCharacteristics_propertyConstructionType  \\\n",
       "0                            Brick on Frame (100%)   \n",
       "1                             Siding, Vinyl (100%)   \n",
       "2                            Brick on Frame (100%)   \n",
       "3                            Brick on Frame (100%)   \n",
       "4                            Brick on Frame (100%)   \n",
       "\n",
       "  propertyCharacteristics_propertyConstructionTypeSource  ...  \\\n",
       "0                                        InterChange      ...   \n",
       "1                                        InterChange      ...   \n",
       "2                                        InterChange      ...   \n",
       "3                                        InterChange      ...   \n",
       "4                                        InterChange      ...   \n",
       "\n",
       "                                    address  rci_score_v1.0  rci_score_v1.1  \\\n",
       "0      100 JACQUELYN DR, SAVANNAH, GA 31406             2.5             7.0   \n",
       "1   100 NELSON TER, MOUNTAIN PINE, AR 71956             2.5             2.5   \n",
       "2  1004 N ALLEN HEIGHTS DR, ALLEN, TX 75002             1.0             1.5   \n",
       "3           1005 CARSON DR, ALLEN, TX 75002             1.0             2.5   \n",
       "4        1007 AYLESBURY DR, ALLEN, TX 75002             1.0             2.5   \n",
       "\n",
       "                                    rci_key_triggers  rci_raw_score_v1.0  \\\n",
       "0  ['Tile/Shingle Staining', 'Tree Overhang', 'Wi...                 2.5   \n",
       "1         ['Tile/Shingle Staining', 'Tree Overhang']                 2.5   \n",
       "2                         ['Hail Insight Score > 4']                 0.0   \n",
       "3        ['Tree Overhang', 'Hail Insight Score > 4']                 1.0   \n",
       "4        ['Tree Overhang', 'Hail Insight Score > 4']                 1.0   \n",
       "\n",
       "  rci_raw_score_v1.1  run_completed  run_status_code  \\\n",
       "0                7.0           True              200   \n",
       "1                2.5           True              200   \n",
       "2                1.5           True              200   \n",
       "3                2.5           True              200   \n",
       "4                2.5           True              200   \n",
       "\n",
       "  historicalRoofPermits_totalCount  \\\n",
       "0                              NaN   \n",
       "1                              NaN   \n",
       "2                              1.0   \n",
       "3                              NaN   \n",
       "4                              NaN   \n",
       "\n",
       "                       historicalRoofPermits_permits  \n",
       "0                                                NaN  \n",
       "1                                                NaN  \n",
       "2  [{'permitProjectType': 'Roof Repair', 'permitE...  \n",
       "3                                                NaN  \n",
       "4                                                NaN  \n",
       "\n",
       "[5 rows x 48 columns]"
      ]
     },
     "execution_count": 35,
     "metadata": {},
     "output_type": "execute_result"
    }
   ],
   "source": [
    "df_seq.head()"
   ]
  },
  {
   "cell_type": "code",
   "execution_count": 36,
   "id": "b4c6f4b7-90ac-4e29-a333-35126ff694a7",
   "metadata": {},
   "outputs": [
    {
     "data": {
      "text/plain": [
       "(1000, 48)"
      ]
     },
     "execution_count": 36,
     "metadata": {},
     "output_type": "execute_result"
    }
   ],
   "source": [
    "df_seq.shape"
   ]
  },
  {
   "cell_type": "code",
   "execution_count": 28,
   "id": "aaf59a53-2d2b-4d74-87fd-0bfa268a218d",
   "metadata": {},
   "outputs": [],
   "source": [
    "par_data = os.path.join(DATA_DIR, 'datasets/output/rci_data_final_20240328_1920.csv')\n",
    "df_par = pd.read_csv(par_data)"
   ]
  },
  {
   "cell_type": "code",
   "execution_count": 37,
   "id": "bd786c88-5bb6-4e18-894b-a752fd849894",
   "metadata": {},
   "outputs": [],
   "source": [
    "df_par = df_par.sort_values('address').reset_index(drop=True)"
   ]
  },
  {
   "cell_type": "code",
   "execution_count": 38,
   "id": "7322471f-f70f-44d6-b0d2-78d4b7a4ad62",
   "metadata": {},
   "outputs": [
    {
     "data": {
      "text/plain": [
       "(1000, 48)"
      ]
     },
     "execution_count": 38,
     "metadata": {},
     "output_type": "execute_result"
    }
   ],
   "source": [
    "df_par.shape"
   ]
  },
  {
   "cell_type": "code",
   "execution_count": 39,
   "id": "49e39074-dc40-49e0-8bf4-0c5b004747c4",
   "metadata": {},
   "outputs": [
    {
     "data": {
      "text/plain": [
       "False"
      ]
     },
     "execution_count": 39,
     "metadata": {},
     "output_type": "execute_result"
    }
   ],
   "source": [
    "df_par.equals(df_seq)"
   ]
  },
  {
   "cell_type": "code",
   "execution_count": 41,
   "id": "676be787-38ee-438f-9ead-4e86a9ca792d",
   "metadata": {},
   "outputs": [],
   "source": [
    "not_eq_cols = [col for col in df_seq.columns if not df_seq[col].equals(df_par[col]) ]"
   ]
  },
  {
   "cell_type": "code",
   "execution_count": 42,
   "id": "226a436f-1dc4-4e6a-8453-ad5fb7458f51",
   "metadata": {},
   "outputs": [
    {
     "data": {
      "text/plain": [
       "['Unnamed: 0',\n",
       " 'propertyCharacteristics_totalLivingArea',\n",
       " 'propertyCharacteristics_totalLivingAreaSource',\n",
       " 'propertyCharacteristics_yearBuilt',\n",
       " 'propertyCharacteristics_yearBuiltSource',\n",
       " 'propertyCharacteristics_propertyConstructionType',\n",
       " 'propertyCharacteristics_propertyConstructionTypeSource',\n",
       " 'propertyCharacteristics_roofReconstructionCostEstimateWODebrisRemoval',\n",
       " 'propertyCharacteristics_roofReconstructionCostEstimateWithDebrisRemoval',\n",
       " 'propertyCharacteristics_currentRoofValueEstimateWODebrisRemoval',\n",
       " 'propertyCharacteristics_currentRoofValueEstimateWithDebrisRemoval',\n",
       " 'ageOfRoof_age',\n",
       " 'ageOfRoof_confidence',\n",
       " 'roofCharacteristics_areaSqft',\n",
       " 'roofCharacteristics_areaSqftConfidence',\n",
       " 'roofCharacteristics_solarPanels',\n",
       " 'roofCharacteristics_solarPanelConfidence',\n",
       " 'roofCharacteristics_shapes',\n",
       " 'roofCharacteristics_materials',\n",
       " 'roofCharacteristics_roofConditions',\n",
       " 'weatherVerification_numberOfHailEventsGTE1InchLT2Inches',\n",
       " 'weatherVerification_numberOfHailEventsGTE2Inches',\n",
       " 'weatherVerification_hailRiskScore',\n",
       " 'weatherVerification_numberOfWindSpeedEventsGT45Mph',\n",
       " 'weatherVerification_numberOfWindSpeedEventsGT60Mph',\n",
       " 'weatherVerification_numberOfWindSpeedEventsGT80Mph',\n",
       " 'images_roofConditionsImage',\n",
       " 'images_roofCharacteristicsImage',\n",
       " 'location_standardizedAddress',\n",
       " 'location_matchCode',\n",
       " 'location_latitude',\n",
       " 'location_longitude',\n",
       " 'location_inputAddress',\n",
       " 'roofConditionInsightsScore_riskScore',\n",
       " 'roofConditionInsightsScore_riskDescription',\n",
       " 'rci_score_v1.0',\n",
       " 'rci_score_v1.1',\n",
       " 'rci_key_triggers',\n",
       " 'rci_raw_score_v1.0',\n",
       " 'rci_raw_score_v1.1',\n",
       " 'run_completed',\n",
       " 'run_status_code',\n",
       " 'historicalRoofPermits_totalCount',\n",
       " 'historicalRoofPermits_permits']"
      ]
     },
     "execution_count": 42,
     "metadata": {},
     "output_type": "execute_result"
    }
   ],
   "source": [
    "not_eq_cols"
   ]
  },
  {
   "cell_type": "code",
   "execution_count": 44,
   "id": "e56c665e-596d-45ab-abb8-53ea7e689b9b",
   "metadata": {},
   "outputs": [
    {
     "data": {
      "text/plain": [
       "run_status_code\n",
       "200    898\n",
       "204    102\n",
       "Name: count, dtype: int64"
      ]
     },
     "execution_count": 44,
     "metadata": {},
     "output_type": "execute_result"
    }
   ],
   "source": [
    "df_par['run_status_code'].value_counts()"
   ]
  },
  {
   "cell_type": "code",
   "execution_count": 45,
   "id": "20a1ab97-24b3-44c2-8724-428a58fa8928",
   "metadata": {},
   "outputs": [
    {
     "data": {
      "text/plain": [
       "run_status_code\n",
       "200    993\n",
       "204      6\n",
       "500      1\n",
       "Name: count, dtype: int64"
      ]
     },
     "execution_count": 45,
     "metadata": {},
     "output_type": "execute_result"
    }
   ],
   "source": [
    "df_seq['run_status_code'].value_counts()"
   ]
  },
  {
   "cell_type": "code",
   "execution_count": 57,
   "id": "9f99463d-7cdf-407f-8e72-aa20fcaa6a97",
   "metadata": {},
   "outputs": [
    {
     "data": {
      "text/plain": [
       "[]"
      ]
     },
     "execution_count": 57,
     "metadata": {},
     "output_type": "execute_result"
    }
   ],
   "source": [
    "[add for add in  df_seq['address'].tolist() if add not in df_par['address'].tolist()]\n",
    "# Addresses are matched ; so, try to rerun the code 204 to see if I can get the response fo them."
   ]
  },
  {
   "cell_type": "code",
   "execution_count": 55,
   "id": "35733271-5bb2-4672-9798-40e1ad05c17c",
   "metadata": {},
   "outputs": [],
   "source": [
    "# rerun those who are failed:\n",
    "address_to_rerun = df_par.loc[df_par['run_status_code'] != 200, 'address'].tolist()"
   ]
  },
  {
   "cell_type": "code",
   "execution_count": 63,
   "id": "601fdd0a-40e5-4138-a1a4-76d3c364a928",
   "metadata": {},
   "outputs": [
    {
     "name": "stdout",
     "output_type": "stream",
     "text": [
      "processing: 145.69422435760498\n"
     ]
    }
   ],
   "source": [
    "st = time.time()\n",
    "df_par_complete = rci.process_multiple_addresses(address_to_rerun, \n",
    "                               generate_pdf=False, \n",
    "                               save_json=False, \n",
    "                               start_index=0, \n",
    "                               process_method='parallel', \n",
    "                               max_workers=5)\n",
    "et = time.time()\n",
    "print('processing:', et-st)"
   ]
  },
  {
   "cell_type": "code",
   "execution_count": 68,
   "id": "ee5b7dbe-46fd-4ca4-82c3-0cdf461a4e8b",
   "metadata": {},
   "outputs": [
    {
     "data": {
      "text/plain": [
       "run_status_code\n",
       "200    102\n",
       "Name: count, dtype: int64"
      ]
     },
     "execution_count": 68,
     "metadata": {},
     "output_type": "execute_result"
    }
   ],
   "source": [
    "df_par_complete.run_status_code.value_counts()"
   ]
  },
  {
   "cell_type": "markdown",
   "id": "e96cd6d7-9603-4898-88c0-60663d66df1a",
   "metadata": {},
   "source": [
    "# Test no-claim"
   ]
  },
  {
   "cell_type": "code",
   "execution_count": 2,
   "id": "42716a91-7696-4db0-9cde-5bc56180069b",
   "metadata": {},
   "outputs": [],
   "source": [
    "import pandas as pd\n",
    "df_test = pd.read_csv('../data/datasets/output/rci_data_checkpoint_2000_20240402_1416.csv')"
   ]
  },
  {
   "cell_type": "code",
   "execution_count": 3,
   "id": "0fc7ccd5-9248-45f8-9342-bc81fa96affb",
   "metadata": {},
   "outputs": [
    {
     "data": {
      "text/plain": [
       "run_status_code\n",
       "200    1246\n",
       "204     227\n",
       "Name: count, dtype: int64"
      ]
     },
     "execution_count": 3,
     "metadata": {},
     "output_type": "execute_result"
    }
   ],
   "source": [
    "df_test.run_status_code.value_counts()"
   ]
  },
  {
   "cell_type": "code",
   "execution_count": 4,
   "id": "e2710b15-2291-48fb-8048-54545723ebdb",
   "metadata": {},
   "outputs": [
    {
     "data": {
      "text/plain": [
       "2649"
      ]
     },
     "execution_count": 4,
     "metadata": {},
     "output_type": "execute_result"
    }
   ],
   "source": [
    "10485 - 7836"
   ]
  },
  {
   "cell_type": "code",
   "execution_count": null,
   "id": "116a8124-8231-404b-9911-8771b1e3ff06",
   "metadata": {},
   "outputs": [],
   "source": []
  }
 ],
 "metadata": {
  "environment": {
   "kernel": "settleassist",
   "name": "tf2-cpu.2-8.m112",
   "type": "gcloud",
   "uri": "gcr.io/deeplearning-platform-release/tf2-cpu.2-8:m112"
  },
  "kernelspec": {
   "display_name": "settleassist",
   "language": "python",
   "name": "settleassist"
  },
  "language_info": {
   "codemirror_mode": {
    "name": "ipython",
    "version": 3
   },
   "file_extension": ".py",
   "mimetype": "text/x-python",
   "name": "python",
   "nbconvert_exporter": "python",
   "pygments_lexer": "ipython3",
   "version": "3.9.0"
  }
 },
 "nbformat": 4,
 "nbformat_minor": 5
}
