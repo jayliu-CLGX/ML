{
 "cells": [
  {
   "cell_type": "markdown",
   "id": "cf7b4ec5-0d3a-433b-94e2-64babdbd5e05",
   "metadata": {},
   "source": [
    "# CONFIG"
   ]
  },
  {
   "cell_type": "code",
   "execution_count": 3,
   "id": "5d8a78fc-16b7-49e8-b4bd-5df896d45d95",
   "metadata": {},
   "outputs": [],
   "source": [
    "import pydata_google_auth\n",
    "import pandas as pd"
   ]
  },
  {
   "cell_type": "markdown",
   "id": "9cb6a771-d1f7-4b91-bd94-c5cfb532ab4a",
   "metadata": {},
   "source": [
    "# FUNCTIONS"
   ]
  },
  {
   "cell_type": "code",
   "execution_count": 8,
   "id": "1061bbe5-a545-491b-86cc-c2db0d49fe4a",
   "metadata": {},
   "outputs": [],
   "source": [
    "def get_credentials(scopes=None, auth_local_webserver=True):\n",
    "    \"\"\"\n",
    "    Obtain Google Cloud credentials and project_id using the provided scopes.\n",
    "\n",
    "    Parameters\n",
    "    ----------\n",
    "    scopes : list of str, optional\n",
    "        List of strings representing the authentication scopes.\n",
    "        Default is ['https://www.googleapis.com/auth/cloud-platform'].\n",
    "    auth_local_webserver : bool, optional\n",
    "        Whether to run a local webserver for authentication.\n",
    "        Default is True.\n",
    "\n",
    "    Returns\n",
    "    -------\n",
    "    tuple\n",
    "        A tuple containing the credentials object and the project_id string.\n",
    "\n",
    "    Examples\n",
    "    --------\n",
    "    >>> credentials, project_id = get_credentials()\n",
    "    >>> print(credentials)\n",
    "    >>> print(credentials.service_account_email)\n",
    "\n",
    "    \"\"\"\n",
    "    import pydata_google_auth\n",
    "\n",
    "    if scopes is None:\n",
    "        scopes = ['https://www.googleapis.com/auth/cloud-platform']\n",
    "\n",
    "    credentials, project_id = pydata_google_auth.default(scopes, auth_local_webserver)\n",
    "    \n",
    "    return credentials, project_id\n",
    "\n",
    "def run_query(query, project_id, credentials):\n",
    "    return pd.read_gbq(query, project_id=project_id, credentials=credentials, use_bqstorage_api=True)"
   ]
  },
  {
   "cell_type": "markdown",
   "id": "70a95346-de73-42c2-8bfe-af593eb6e8e3",
   "metadata": {},
   "source": [
    "# READ DATA"
   ]
  },
  {
   "cell_type": "markdown",
   "id": "33fdbf5e-03d9-4f50-8e32-842f836e1da4",
   "metadata": {},
   "source": [
    "# Settleassist data"
   ]
  },
  {
   "cell_type": "code",
   "execution_count": 9,
   "id": "1d6c954d-3efc-47df-b873-a5f199c77180",
   "metadata": {},
   "outputs": [],
   "source": [
    "stlassist_query = \"\"\"\n",
    "select *\n",
    "from `clgx-saadex-app-reg-66f0.edr_rnd_property_settleassist.Job` j\n",
    "join `clgx-saadex-app-reg-66f0.edr_rnd_property_settleassist.Job_SettleAssistDetails` d on j.Job_SettleAssistDetailsID = d.id and j.SourceDB = d.SourceDB\n",
    "join `clgx-saadex-app-reg-66f0.edr_rnd_property_settleassist.JobRun` jr on j.id = jr.job_id and j.SourceDB = jr.SourceDB\n",
    "join `clgx-saadex-app-reg-66f0.edr_rnd_property_settleassist.Address` a on d.addressid = a.id and d.SourceDB = a.SourceDB\n",
    "\"\"\""
   ]
  },
  {
   "cell_type": "code",
   "execution_count": 10,
   "id": "644c12b0-a206-410e-b1cc-0aabfd2dd009",
   "metadata": {},
   "outputs": [
    {
     "ename": "Error",
     "evalue": "could not locate runnable browser",
     "output_type": "error",
     "traceback": [
      "\u001b[0;31m---------------------------------------------------------------------------\u001b[0m",
      "\u001b[0;31mError\u001b[0m                                     Traceback (most recent call last)",
      "\u001b[0;32m/var/tmp/ipykernel_21598/1837020585.py\u001b[0m in \u001b[0;36m<module>\u001b[0;34m\u001b[0m\n\u001b[0;32m----> 1\u001b[0;31m \u001b[0mproject_id\u001b[0m\u001b[0;34m,\u001b[0m \u001b[0mcredentials\u001b[0m \u001b[0;34m=\u001b[0m \u001b[0mget_credentials\u001b[0m\u001b[0;34m(\u001b[0m\u001b[0mscopes\u001b[0m\u001b[0;34m=\u001b[0m\u001b[0;32mNone\u001b[0m\u001b[0;34m,\u001b[0m \u001b[0mauth_local_webserver\u001b[0m\u001b[0;34m=\u001b[0m\u001b[0;32mTrue\u001b[0m\u001b[0;34m)\u001b[0m\u001b[0;34m\u001b[0m\u001b[0;34m\u001b[0m\u001b[0m\n\u001b[0m",
      "\u001b[0;32m/var/tmp/ipykernel_21598/3108209102.py\u001b[0m in \u001b[0;36mget_credentials\u001b[0;34m(scopes, auth_local_webserver)\u001b[0m\n\u001b[1;32m     29\u001b[0m         \u001b[0mscopes\u001b[0m \u001b[0;34m=\u001b[0m \u001b[0;34m[\u001b[0m\u001b[0;34m'https://www.googleapis.com/auth/cloud-platform'\u001b[0m\u001b[0;34m]\u001b[0m\u001b[0;34m\u001b[0m\u001b[0;34m\u001b[0m\u001b[0m\n\u001b[1;32m     30\u001b[0m \u001b[0;34m\u001b[0m\u001b[0m\n\u001b[0;32m---> 31\u001b[0;31m     \u001b[0mcredentials\u001b[0m\u001b[0;34m,\u001b[0m \u001b[0mproject_id\u001b[0m \u001b[0;34m=\u001b[0m \u001b[0mpydata_google_auth\u001b[0m\u001b[0;34m.\u001b[0m\u001b[0mdefault\u001b[0m\u001b[0;34m(\u001b[0m\u001b[0mscopes\u001b[0m\u001b[0;34m,\u001b[0m \u001b[0mauth_local_webserver\u001b[0m\u001b[0;34m)\u001b[0m\u001b[0;34m\u001b[0m\u001b[0;34m\u001b[0m\u001b[0m\n\u001b[0m\u001b[1;32m     32\u001b[0m \u001b[0;34m\u001b[0m\u001b[0m\n\u001b[1;32m     33\u001b[0m     \u001b[0;32mreturn\u001b[0m \u001b[0mcredentials\u001b[0m\u001b[0;34m,\u001b[0m \u001b[0mproject_id\u001b[0m\u001b[0;34m\u001b[0m\u001b[0;34m\u001b[0m\u001b[0m\n",
      "\u001b[0;32m/opt/conda/lib/python3.7/site-packages/pydata_google_auth/auth.py\u001b[0m in \u001b[0;36mdefault\u001b[0;34m(scopes, client_id, client_secret, credentials_cache, use_local_webserver, auth_local_webserver, redirect_uri)\u001b[0m\n\u001b[1;32m    156\u001b[0m         \u001b[0mcredentials_cache\u001b[0m\u001b[0;34m=\u001b[0m\u001b[0mcredentials_cache\u001b[0m\u001b[0;34m,\u001b[0m\u001b[0;34m\u001b[0m\u001b[0;34m\u001b[0m\u001b[0m\n\u001b[1;32m    157\u001b[0m         \u001b[0muse_local_webserver\u001b[0m\u001b[0;34m=\u001b[0m\u001b[0muse_local_webserver\u001b[0m\u001b[0;34m,\u001b[0m\u001b[0;34m\u001b[0m\u001b[0;34m\u001b[0m\u001b[0m\n\u001b[0;32m--> 158\u001b[0;31m         \u001b[0mredirect_uri\u001b[0m\u001b[0;34m=\u001b[0m\u001b[0mredirect_uri\u001b[0m\u001b[0;34m,\u001b[0m\u001b[0;34m\u001b[0m\u001b[0;34m\u001b[0m\u001b[0m\n\u001b[0m\u001b[1;32m    159\u001b[0m     )\n\u001b[1;32m    160\u001b[0m \u001b[0;34m\u001b[0m\u001b[0m\n",
      "\u001b[0;32m/opt/conda/lib/python3.7/site-packages/pydata_google_auth/auth.py\u001b[0m in \u001b[0;36mget_user_credentials\u001b[0;34m(scopes, client_id, client_secret, credentials_cache, use_local_webserver, auth_local_webserver, redirect_uri)\u001b[0m\n\u001b[1;32m    360\u001b[0m         \u001b[0;32mtry\u001b[0m\u001b[0;34m:\u001b[0m\u001b[0;34m\u001b[0m\u001b[0;34m\u001b[0m\u001b[0m\n\u001b[1;32m    361\u001b[0m             \u001b[0;32mif\u001b[0m \u001b[0muse_local_webserver\u001b[0m\u001b[0;34m:\u001b[0m\u001b[0;34m\u001b[0m\u001b[0;34m\u001b[0m\u001b[0m\n\u001b[0;32m--> 362\u001b[0;31m                 \u001b[0mcredentials\u001b[0m \u001b[0;34m=\u001b[0m \u001b[0m_webserver\u001b[0m\u001b[0;34m.\u001b[0m\u001b[0mrun_local_server\u001b[0m\u001b[0;34m(\u001b[0m\u001b[0mapp_flow\u001b[0m\u001b[0;34m,\u001b[0m \u001b[0;34m**\u001b[0m\u001b[0mAUTH_URI_KWARGS\u001b[0m\u001b[0;34m)\u001b[0m\u001b[0;34m\u001b[0m\u001b[0;34m\u001b[0m\u001b[0m\n\u001b[0m\u001b[1;32m    363\u001b[0m             \u001b[0;32melse\u001b[0m\u001b[0;34m:\u001b[0m\u001b[0;34m\u001b[0m\u001b[0;34m\u001b[0m\u001b[0m\n\u001b[1;32m    364\u001b[0m                 credentials = _run_webapp(\n",
      "\u001b[0;32m/opt/conda/lib/python3.7/site-packages/pydata_google_auth/_webserver.py\u001b[0m in \u001b[0;36mrun_local_server\u001b[0;34m(app_flow, **kwargs)\u001b[0m\n\u001b[1;32m     87\u001b[0m     \u001b[0;32mif\u001b[0m \u001b[0;32mnot\u001b[0m \u001b[0mport\u001b[0m\u001b[0;34m:\u001b[0m\u001b[0;34m\u001b[0m\u001b[0;34m\u001b[0m\u001b[0m\n\u001b[1;32m     88\u001b[0m         \u001b[0;32mraise\u001b[0m \u001b[0mexceptions\u001b[0m\u001b[0;34m.\u001b[0m\u001b[0mPyDataConnectionError\u001b[0m\u001b[0;34m(\u001b[0m\u001b[0;34m\"Could not find open port.\"\u001b[0m\u001b[0;34m)\u001b[0m\u001b[0;34m\u001b[0m\u001b[0;34m\u001b[0m\u001b[0m\n\u001b[0;32m---> 89\u001b[0;31m     \u001b[0;32mreturn\u001b[0m \u001b[0mapp_flow\u001b[0m\u001b[0;34m.\u001b[0m\u001b[0mrun_local_server\u001b[0m\u001b[0;34m(\u001b[0m\u001b[0mhost\u001b[0m\u001b[0;34m=\u001b[0m\u001b[0mLOCALHOST\u001b[0m\u001b[0;34m,\u001b[0m \u001b[0mport\u001b[0m\u001b[0;34m=\u001b[0m\u001b[0mport\u001b[0m\u001b[0;34m,\u001b[0m \u001b[0;34m**\u001b[0m\u001b[0mkwargs\u001b[0m\u001b[0;34m)\u001b[0m\u001b[0;34m\u001b[0m\u001b[0;34m\u001b[0m\u001b[0m\n\u001b[0m",
      "\u001b[0;32m/opt/conda/lib/python3.7/site-packages/google_auth_oauthlib/flow.py\u001b[0m in \u001b[0;36mrun_local_server\u001b[0;34m(self, host, bind_addr, port, authorization_prompt_message, success_message, open_browser, redirect_uri_trailing_slash, timeout_seconds, token_audience, browser, **kwargs)\u001b[0m\n\u001b[1;32m    442\u001b[0m         \u001b[0;32mif\u001b[0m \u001b[0mopen_browser\u001b[0m\u001b[0;34m:\u001b[0m\u001b[0;34m\u001b[0m\u001b[0;34m\u001b[0m\u001b[0m\n\u001b[1;32m    443\u001b[0m             \u001b[0;31m# if browser is None it defaults to default browser\u001b[0m\u001b[0;34m\u001b[0m\u001b[0;34m\u001b[0m\u001b[0;34m\u001b[0m\u001b[0m\n\u001b[0;32m--> 444\u001b[0;31m             \u001b[0mwebbrowser\u001b[0m\u001b[0;34m.\u001b[0m\u001b[0mget\u001b[0m\u001b[0;34m(\u001b[0m\u001b[0mbrowser\u001b[0m\u001b[0;34m)\u001b[0m\u001b[0;34m.\u001b[0m\u001b[0mopen\u001b[0m\u001b[0;34m(\u001b[0m\u001b[0mauth_url\u001b[0m\u001b[0;34m,\u001b[0m \u001b[0mnew\u001b[0m\u001b[0;34m=\u001b[0m\u001b[0;36m1\u001b[0m\u001b[0;34m,\u001b[0m \u001b[0mautoraise\u001b[0m\u001b[0;34m=\u001b[0m\u001b[0;32mTrue\u001b[0m\u001b[0;34m)\u001b[0m\u001b[0;34m\u001b[0m\u001b[0;34m\u001b[0m\u001b[0m\n\u001b[0m\u001b[1;32m    445\u001b[0m \u001b[0;34m\u001b[0m\u001b[0m\n\u001b[1;32m    446\u001b[0m         \u001b[0;32mif\u001b[0m \u001b[0mauthorization_prompt_message\u001b[0m\u001b[0;34m:\u001b[0m\u001b[0;34m\u001b[0m\u001b[0;34m\u001b[0m\u001b[0m\n",
      "\u001b[0;32m/opt/conda/lib/python3.7/webbrowser.py\u001b[0m in \u001b[0;36mget\u001b[0;34m(using)\u001b[0m\n\u001b[1;32m     63\u001b[0m             \u001b[0;32melif\u001b[0m \u001b[0mcommand\u001b[0m\u001b[0;34m[\u001b[0m\u001b[0;36m0\u001b[0m\u001b[0;34m]\u001b[0m \u001b[0;32mis\u001b[0m \u001b[0;32mnot\u001b[0m \u001b[0;32mNone\u001b[0m\u001b[0;34m:\u001b[0m\u001b[0;34m\u001b[0m\u001b[0;34m\u001b[0m\u001b[0m\n\u001b[1;32m     64\u001b[0m                 \u001b[0;32mreturn\u001b[0m \u001b[0mcommand\u001b[0m\u001b[0;34m[\u001b[0m\u001b[0;36m0\u001b[0m\u001b[0;34m]\u001b[0m\u001b[0;34m(\u001b[0m\u001b[0;34m)\u001b[0m\u001b[0;34m\u001b[0m\u001b[0;34m\u001b[0m\u001b[0m\n\u001b[0;32m---> 65\u001b[0;31m     \u001b[0;32mraise\u001b[0m \u001b[0mError\u001b[0m\u001b[0;34m(\u001b[0m\u001b[0;34m\"could not locate runnable browser\"\u001b[0m\u001b[0;34m)\u001b[0m\u001b[0;34m\u001b[0m\u001b[0;34m\u001b[0m\u001b[0m\n\u001b[0m\u001b[1;32m     66\u001b[0m \u001b[0;34m\u001b[0m\u001b[0m\n\u001b[1;32m     67\u001b[0m \u001b[0;31m# Please note: the following definition hides a builtin function.\u001b[0m\u001b[0;34m\u001b[0m\u001b[0;34m\u001b[0m\u001b[0;34m\u001b[0m\u001b[0m\n",
      "\u001b[0;31mError\u001b[0m: could not locate runnable browser"
     ]
    }
   ],
   "source": [
    "project_id, credentials = get_credentials(scopes=None, auth_local_webserver=True)"
   ]
  },
  {
   "cell_type": "code",
   "execution_count": null,
   "id": "e2965535-304c-47c6-972a-bb27f1913598",
   "metadata": {},
   "outputs": [],
   "source": []
  },
  {
   "cell_type": "markdown",
   "id": "985e06af-0b43-46d3-b411-4cad0d897513",
   "metadata": {},
   "source": [
    "# Claim Sampled Data Q3-Q4"
   ]
  },
  {
   "cell_type": "code",
   "execution_count": 4,
   "id": "2e52653d-a1b6-4545-9e3a-690b326db783",
   "metadata": {},
   "outputs": [],
   "source": [
    "claim_Data_qs_3_4 = pd.read_csv('ALL_SAClaimsInvestigation_Q3-Q4-2023_20240228.csv')"
   ]
  },
  {
   "cell_type": "code",
   "execution_count": 7,
   "id": "6d92c5a2-e657-4ff7-ba21-06aca67193a9",
   "metadata": {},
   "outputs": [
    {
     "data": {
      "text/html": [
       "<div>\n",
       "<style scoped>\n",
       "    .dataframe tbody tr th:only-of-type {\n",
       "        vertical-align: middle;\n",
       "    }\n",
       "\n",
       "    .dataframe tbody tr th {\n",
       "        vertical-align: top;\n",
       "    }\n",
       "\n",
       "    .dataframe thead th {\n",
       "        text-align: right;\n",
       "    }\n",
       "</style>\n",
       "<table border=\"1\" class=\"dataframe\">\n",
       "  <thead>\n",
       "    <tr style=\"text-align: right;\">\n",
       "      <th></th>\n",
       "      <th>first_date</th>\n",
       "      <th>last_date</th>\n",
       "      <th>claim_count</th>\n",
       "      <th>claim_number</th>\n",
       "      <th>street</th>\n",
       "      <th>city</th>\n",
       "      <th>state</th>\n",
       "      <th>zip</th>\n",
       "    </tr>\n",
       "  </thead>\n",
       "  <tbody>\n",
       "    <tr>\n",
       "      <th>0</th>\n",
       "      <td>7/23/23 1:04 PM</td>\n",
       "      <td>7/23/23 1:04 PM</td>\n",
       "      <td>1</td>\n",
       "      <td>458054939</td>\n",
       "      <td>837 KANSAS ST</td>\n",
       "      <td>CAROL STREAM</td>\n",
       "      <td>IL</td>\n",
       "      <td>60188-1466</td>\n",
       "    </tr>\n",
       "    <tr>\n",
       "      <th>1</th>\n",
       "      <td>8/3/23 3:53 PM</td>\n",
       "      <td>8/3/23 3:56 PM</td>\n",
       "      <td>2</td>\n",
       "      <td>570805523</td>\n",
       "      <td>3013 OMAHA ST</td>\n",
       "      <td>MIDDLETOWN</td>\n",
       "      <td>OH</td>\n",
       "      <td>45044-7719</td>\n",
       "    </tr>\n",
       "    <tr>\n",
       "      <th>2</th>\n",
       "      <td>7/7/23 11:07 AM</td>\n",
       "      <td>7/7/23 11:07 AM</td>\n",
       "      <td>6</td>\n",
       "      <td>586508681</td>\n",
       "      <td>820 LYNN ANN WAY</td>\n",
       "      <td>RED OAK</td>\n",
       "      <td>TX</td>\n",
       "      <td>75154-5216</td>\n",
       "    </tr>\n",
       "    <tr>\n",
       "      <th>3</th>\n",
       "      <td>10/27/23 10:36 AM</td>\n",
       "      <td>10/27/23 10:36 AM</td>\n",
       "      <td>2</td>\n",
       "      <td>604100198</td>\n",
       "      <td>2376 COUNTY RD 1207</td>\n",
       "      <td>BLANCHARD</td>\n",
       "      <td>OK</td>\n",
       "      <td>73010-2806</td>\n",
       "    </tr>\n",
       "    <tr>\n",
       "      <th>4</th>\n",
       "      <td>7/1/23 6:52 AM</td>\n",
       "      <td>7/1/23 6:57 AM</td>\n",
       "      <td>2</td>\n",
       "      <td>606479178</td>\n",
       "      <td>4322 UPLAND WAY</td>\n",
       "      <td>GARLAND</td>\n",
       "      <td>TX</td>\n",
       "      <td>75042-6168</td>\n",
       "    </tr>\n",
       "  </tbody>\n",
       "</table>\n",
       "</div>"
      ],
      "text/plain": [
       "          first_date          last_date  claim_count  claim_number  \\\n",
       "0    7/23/23 1:04 PM    7/23/23 1:04 PM            1     458054939   \n",
       "1     8/3/23 3:53 PM     8/3/23 3:56 PM            2     570805523   \n",
       "2    7/7/23 11:07 AM    7/7/23 11:07 AM            6     586508681   \n",
       "3  10/27/23 10:36 AM  10/27/23 10:36 AM            2     604100198   \n",
       "4     7/1/23 6:52 AM     7/1/23 6:57 AM            2     606479178   \n",
       "\n",
       "                street          city state         zip  \n",
       "0        837 KANSAS ST  CAROL STREAM    IL  60188-1466  \n",
       "1        3013 OMAHA ST    MIDDLETOWN    OH  45044-7719  \n",
       "2     820 LYNN ANN WAY       RED OAK    TX  75154-5216  \n",
       "3  2376 COUNTY RD 1207     BLANCHARD    OK  73010-2806  \n",
       "4      4322 UPLAND WAY       GARLAND    TX  75042-6168  "
      ]
     },
     "execution_count": 7,
     "metadata": {},
     "output_type": "execute_result"
    }
   ],
   "source": [
    "claim_Data_qs_3_4.head()"
   ]
  },
  {
   "cell_type": "code",
   "execution_count": null,
   "id": "095027ad-8139-4962-81bb-70e9e576930c",
   "metadata": {},
   "outputs": [],
   "source": [
    "claim_Data_qs_3_4.head()"
   ]
  }
 ],
 "metadata": {
  "environment": {
   "kernel": "python3",
   "name": "tf2-cpu.2-8.m112",
   "type": "gcloud",
   "uri": "gcr.io/deeplearning-platform-release/tf2-cpu.2-8:m112"
  },
  "kernelspec": {
   "display_name": "Python 3",
   "language": "python",
   "name": "python3"
  },
  "language_info": {
   "codemirror_mode": {
    "name": "ipython",
    "version": 3
   },
   "file_extension": ".py",
   "mimetype": "text/x-python",
   "name": "python",
   "nbconvert_exporter": "python",
   "pygments_lexer": "ipython3",
   "version": "3.7.12"
  }
 },
 "nbformat": 4,
 "nbformat_minor": 5
}
